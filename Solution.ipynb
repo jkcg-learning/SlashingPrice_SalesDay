{
 "cells": [
  {
   "cell_type": "code",
   "execution_count": 2,
   "metadata": {},
   "outputs": [],
   "source": [
    "import numpy as np        \n",
    "import pandas as pd\n",
    "import matplotlib.pyplot as plt\n",
    "import seaborn as sns"
   ]
  },
  {
   "cell_type": "code",
   "execution_count": 3,
   "metadata": {},
   "outputs": [
    {
     "data": {
      "text/html": [
       "<div>\n",
       "<style scoped>\n",
       "    .dataframe tbody tr th:only-of-type {\n",
       "        vertical-align: middle;\n",
       "    }\n",
       "\n",
       "    .dataframe tbody tr th {\n",
       "        vertical-align: top;\n",
       "    }\n",
       "\n",
       "    .dataframe thead th {\n",
       "        text-align: right;\n",
       "    }\n",
       "</style>\n",
       "<table border=\"1\" class=\"dataframe\">\n",
       "  <thead>\n",
       "    <tr style=\"text-align: right;\">\n",
       "      <th></th>\n",
       "      <th>Item_Id</th>\n",
       "      <th>Date</th>\n",
       "      <th>State_of_Country</th>\n",
       "      <th>Market_Category</th>\n",
       "      <th>Product_Category</th>\n",
       "      <th>Grade</th>\n",
       "      <th>Demand</th>\n",
       "      <th>Low_Cap_Price</th>\n",
       "      <th>High_Cap_Price</th>\n",
       "    </tr>\n",
       "  </thead>\n",
       "  <tbody>\n",
       "    <tr>\n",
       "      <td>0</td>\n",
       "      <td>IT_1</td>\n",
       "      <td>2007-07-05</td>\n",
       "      <td>0</td>\n",
       "      <td>0</td>\n",
       "      <td>0</td>\n",
       "      <td>0</td>\n",
       "      <td>0.5</td>\n",
       "      <td>2785</td>\n",
       "      <td>4240</td>\n",
       "    </tr>\n",
       "    <tr>\n",
       "      <td>1</td>\n",
       "      <td>IT_2</td>\n",
       "      <td>2007-07-05</td>\n",
       "      <td>0</td>\n",
       "      <td>1</td>\n",
       "      <td>0</td>\n",
       "      <td>0</td>\n",
       "      <td>0.7</td>\n",
       "      <td>3574</td>\n",
       "      <td>4756</td>\n",
       "    </tr>\n",
       "    <tr>\n",
       "      <td>2</td>\n",
       "      <td>IT_3</td>\n",
       "      <td>2007-07-05</td>\n",
       "      <td>0</td>\n",
       "      <td>103</td>\n",
       "      <td>0</td>\n",
       "      <td>1</td>\n",
       "      <td>1.6</td>\n",
       "      <td>5978</td>\n",
       "      <td>9669</td>\n",
       "    </tr>\n",
       "    <tr>\n",
       "      <td>3</td>\n",
       "      <td>IT_4</td>\n",
       "      <td>2007-07-05</td>\n",
       "      <td>0</td>\n",
       "      <td>103</td>\n",
       "      <td>0</td>\n",
       "      <td>0</td>\n",
       "      <td>0.0</td>\n",
       "      <td>5681</td>\n",
       "      <td>8313</td>\n",
       "    </tr>\n",
       "    <tr>\n",
       "      <td>4</td>\n",
       "      <td>IT_5</td>\n",
       "      <td>2007-07-05</td>\n",
       "      <td>0</td>\n",
       "      <td>103</td>\n",
       "      <td>0</td>\n",
       "      <td>2</td>\n",
       "      <td>0.0</td>\n",
       "      <td>4924</td>\n",
       "      <td>7257</td>\n",
       "    </tr>\n",
       "  </tbody>\n",
       "</table>\n",
       "</div>"
      ],
      "text/plain": [
       "  Item_Id        Date  State_of_Country  Market_Category  Product_Category  \\\n",
       "0    IT_1  2007-07-05                 0                0                 0   \n",
       "1    IT_2  2007-07-05                 0                1                 0   \n",
       "2    IT_3  2007-07-05                 0              103                 0   \n",
       "3    IT_4  2007-07-05                 0              103                 0   \n",
       "4    IT_5  2007-07-05                 0              103                 0   \n",
       "\n",
       "   Grade  Demand  Low_Cap_Price  High_Cap_Price  \n",
       "0      0     0.5           2785            4240  \n",
       "1      0     0.7           3574            4756  \n",
       "2      1     1.6           5978            9669  \n",
       "3      0     0.0           5681            8313  \n",
       "4      2     0.0           4924            7257  "
      ]
     },
     "execution_count": 3,
     "metadata": {},
     "output_type": "execute_result"
    }
   ],
   "source": [
    "salesday_trainData = pd.read_csv(\"Train.csv\")\n",
    "salesday_trainData.head()"
   ]
  },
  {
   "cell_type": "code",
   "execution_count": 4,
   "metadata": {},
   "outputs": [
    {
     "name": "stdout",
     "output_type": "stream",
     "text": [
      "<class 'pandas.core.frame.DataFrame'>\n",
      "RangeIndex: 9798 entries, 0 to 9797\n",
      "Data columns (total 9 columns):\n",
      "Item_Id             9798 non-null object\n",
      "Date                9798 non-null object\n",
      "State_of_Country    9798 non-null int64\n",
      "Market_Category     9798 non-null int64\n",
      "Product_Category    9798 non-null int64\n",
      "Grade               9798 non-null int64\n",
      "Demand              9798 non-null float64\n",
      "Low_Cap_Price       9798 non-null int64\n",
      "High_Cap_Price      9798 non-null int64\n",
      "dtypes: float64(1), int64(6), object(2)\n",
      "memory usage: 689.0+ KB\n"
     ]
    }
   ],
   "source": [
    "salesday_trainData.info()"
   ]
  },
  {
   "cell_type": "code",
   "execution_count": 16,
   "metadata": {},
   "outputs": [],
   "source": [
    "salesday_trainData.drop('Item_Id', axis = 1, inplace = True)\n",
    "salesday_trainData.drop('Date', axis = 1, inplace = True)"
   ]
  },
  {
   "cell_type": "code",
   "execution_count": 20,
   "metadata": {},
   "outputs": [
    {
     "name": "stdout",
     "output_type": "stream",
     "text": [
      "<class 'pandas.core.frame.DataFrame'>\n",
      "RangeIndex: 9798 entries, 0 to 9797\n",
      "Data columns (total 7 columns):\n",
      "State_of_Country    9798 non-null int64\n",
      "Market_Category     9798 non-null int64\n",
      "Product_Category    9798 non-null int64\n",
      "Grade               9798 non-null int64\n",
      "Demand              9798 non-null float64\n",
      "Low_Cap_Price       9798 non-null int64\n",
      "High_Cap_Price      9798 non-null int64\n",
      "dtypes: float64(1), int64(6)\n",
      "memory usage: 536.0 KB\n"
     ]
    }
   ],
   "source": [
    "salesday_trainData.info()"
   ]
  },
  {
   "cell_type": "code",
   "execution_count": 44,
   "metadata": {},
   "outputs": [
    {
     "data": {
      "text/plain": [
       "State_of_Country      int64\n",
       "Market_Category       int64\n",
       "Product_Category      int64\n",
       "Grade                 int64\n",
       "Demand              float64\n",
       "Low_Cap_Price         int64\n",
       "High_Cap_Price        int64\n",
       "dtype: object"
      ]
     },
     "execution_count": 44,
     "metadata": {},
     "output_type": "execute_result"
    }
   ],
   "source": [
    "salesday_trainData.dtypes"
   ]
  },
  {
   "cell_type": "code",
   "execution_count": 45,
   "metadata": {},
   "outputs": [
    {
     "data": {
      "text/plain": [
       "State_of_Country    0\n",
       "Market_Category     0\n",
       "Product_Category    0\n",
       "Grade               0\n",
       "Demand              0\n",
       "Low_Cap_Price       0\n",
       "High_Cap_Price      0\n",
       "dtype: int64"
      ]
     },
     "execution_count": 45,
     "metadata": {},
     "output_type": "execute_result"
    }
   ],
   "source": [
    "salesday_trainData.isna().sum()"
   ]
  },
  {
   "cell_type": "code",
   "execution_count": 17,
   "metadata": {},
   "outputs": [
    {
     "data": {
      "text/html": [
       "<div>\n",
       "<style scoped>\n",
       "    .dataframe tbody tr th:only-of-type {\n",
       "        vertical-align: middle;\n",
       "    }\n",
       "\n",
       "    .dataframe tbody tr th {\n",
       "        vertical-align: top;\n",
       "    }\n",
       "\n",
       "    .dataframe thead th {\n",
       "        text-align: right;\n",
       "    }\n",
       "</style>\n",
       "<table border=\"1\" class=\"dataframe\">\n",
       "  <thead>\n",
       "    <tr style=\"text-align: right;\">\n",
       "      <th></th>\n",
       "      <th>State_of_Country</th>\n",
       "      <th>Market_Category</th>\n",
       "      <th>Product_Category</th>\n",
       "      <th>Grade</th>\n",
       "      <th>Demand</th>\n",
       "      <th>Low_Cap_Price</th>\n",
       "      <th>High_Cap_Price</th>\n",
       "    </tr>\n",
       "  </thead>\n",
       "  <tbody>\n",
       "    <tr>\n",
       "      <td>count</td>\n",
       "      <td>9798.000000</td>\n",
       "      <td>9798.000000</td>\n",
       "      <td>9798.000000</td>\n",
       "      <td>9798.000000</td>\n",
       "      <td>9798.000000</td>\n",
       "      <td>9798.000000</td>\n",
       "      <td>9798.000000</td>\n",
       "    </tr>\n",
       "    <tr>\n",
       "      <td>mean</td>\n",
       "      <td>14.278730</td>\n",
       "      <td>198.414064</td>\n",
       "      <td>2.492958</td>\n",
       "      <td>0.652072</td>\n",
       "      <td>71.977414</td>\n",
       "      <td>3500.273525</td>\n",
       "      <td>6349.838028</td>\n",
       "    </tr>\n",
       "    <tr>\n",
       "      <td>std</td>\n",
       "      <td>8.760964</td>\n",
       "      <td>169.767862</td>\n",
       "      <td>4.751807</td>\n",
       "      <td>1.032439</td>\n",
       "      <td>927.194052</td>\n",
       "      <td>2188.046803</td>\n",
       "      <td>3652.780956</td>\n",
       "    </tr>\n",
       "    <tr>\n",
       "      <td>min</td>\n",
       "      <td>0.000000</td>\n",
       "      <td>0.000000</td>\n",
       "      <td>0.000000</td>\n",
       "      <td>0.000000</td>\n",
       "      <td>0.000000</td>\n",
       "      <td>1.000000</td>\n",
       "      <td>163.000000</td>\n",
       "    </tr>\n",
       "    <tr>\n",
       "      <td>25%</td>\n",
       "      <td>3.000000</td>\n",
       "      <td>55.000000</td>\n",
       "      <td>0.000000</td>\n",
       "      <td>0.000000</td>\n",
       "      <td>0.500000</td>\n",
       "      <td>1863.250000</td>\n",
       "      <td>3878.250000</td>\n",
       "    </tr>\n",
       "    <tr>\n",
       "      <td>50%</td>\n",
       "      <td>20.000000</td>\n",
       "      <td>129.000000</td>\n",
       "      <td>0.000000</td>\n",
       "      <td>0.000000</td>\n",
       "      <td>2.000000</td>\n",
       "      <td>3124.000000</td>\n",
       "      <td>5552.500000</td>\n",
       "    </tr>\n",
       "    <tr>\n",
       "      <td>75%</td>\n",
       "      <td>21.000000</td>\n",
       "      <td>389.000000</td>\n",
       "      <td>1.000000</td>\n",
       "      <td>2.000000</td>\n",
       "      <td>10.175000</td>\n",
       "      <td>4667.500000</td>\n",
       "      <td>7993.750000</td>\n",
       "    </tr>\n",
       "    <tr>\n",
       "      <td>max</td>\n",
       "      <td>23.000000</td>\n",
       "      <td>471.000000</td>\n",
       "      <td>17.000000</td>\n",
       "      <td>3.000000</td>\n",
       "      <td>64160.500000</td>\n",
       "      <td>17580.000000</td>\n",
       "      <td>58812.000000</td>\n",
       "    </tr>\n",
       "  </tbody>\n",
       "</table>\n",
       "</div>"
      ],
      "text/plain": [
       "       State_of_Country  Market_Category  Product_Category        Grade  \\\n",
       "count       9798.000000      9798.000000       9798.000000  9798.000000   \n",
       "mean          14.278730       198.414064          2.492958     0.652072   \n",
       "std            8.760964       169.767862          4.751807     1.032439   \n",
       "min            0.000000         0.000000          0.000000     0.000000   \n",
       "25%            3.000000        55.000000          0.000000     0.000000   \n",
       "50%           20.000000       129.000000          0.000000     0.000000   \n",
       "75%           21.000000       389.000000          1.000000     2.000000   \n",
       "max           23.000000       471.000000         17.000000     3.000000   \n",
       "\n",
       "             Demand  Low_Cap_Price  High_Cap_Price  \n",
       "count   9798.000000    9798.000000     9798.000000  \n",
       "mean      71.977414    3500.273525     6349.838028  \n",
       "std      927.194052    2188.046803     3652.780956  \n",
       "min        0.000000       1.000000      163.000000  \n",
       "25%        0.500000    1863.250000     3878.250000  \n",
       "50%        2.000000    3124.000000     5552.500000  \n",
       "75%       10.175000    4667.500000     7993.750000  \n",
       "max    64160.500000   17580.000000    58812.000000  "
      ]
     },
     "execution_count": 17,
     "metadata": {},
     "output_type": "execute_result"
    }
   ],
   "source": [
    "salesday_trainData.describe()"
   ]
  },
  {
   "cell_type": "code",
   "execution_count": 18,
   "metadata": {},
   "outputs": [
    {
     "data": {
      "text/plain": [
       "<matplotlib.axes._subplots.AxesSubplot at 0x160831cb308>"
      ]
     },
     "execution_count": 18,
     "metadata": {},
     "output_type": "execute_result"
    },
    {
     "data": {
      "image/png": "[encoded data removed]",
      "text/plain": [
       "<Figure size 432x288 with 1 Axes>"
      ]
     },
     "metadata": {
      "needs_background": "light"
     },
     "output_type": "display_data"
    }
   ],
   "source": [
    "sns.countplot(x=\"State_of_Country\", data=salesday_trainData)"
   ]
  },
  {
   "cell_type": "code",
   "execution_count": 19,
   "metadata": {},
   "outputs": [
    {
     "data": {
      "text/plain": [
       "<matplotlib.axes._subplots.AxesSubplot at 0x160832c4ec8>"
      ]
     },
     "execution_count": 19,
     "metadata": {},
     "output_type": "execute_result"
    },
    {
     "data": {
      "image/png": "[encoded data removed]",
      "text/plain": [
       "<Figure size 432x288 with 1 Axes>"
      ]
     },
     "metadata": {
      "needs_background": "light"
     },
     "output_type": "display_data"
    }
   ],
   "source": [
    "sns.countplot(x=\"Product_Category\", data=salesday_trainData)"
   ]
  },
  {
   "cell_type": "code",
   "execution_count": 21,
   "metadata": {},
   "outputs": [
    {
     "name": "stdout",
     "output_type": "stream",
     "text": [
      "   State_of_Country  Market_Category  Product_Category  Grade  Demand  \\\n",
      "0                 0                0                 0      0     0.5   \n",
      "1                 0                1                 0      0     0.7   \n",
      "2                 0              103                 0      1     1.6   \n",
      "3                 0              103                 0      0     0.0   \n",
      "4                 0              103                 0      2     0.0   \n",
      "\n",
      "   Low_Cap_Price  High_Cap_Price  \n",
      "0           2785            4240  \n",
      "1           3574            4756  \n",
      "2           5978            9669  \n",
      "3           5681            8313  \n",
      "4           4924            7257  \n"
     ]
    },
    {
     "data": {
      "text/html": [
       "<div>\n",
       "<style scoped>\n",
       "    .dataframe tbody tr th:only-of-type {\n",
       "        vertical-align: middle;\n",
       "    }\n",
       "\n",
       "    .dataframe tbody tr th {\n",
       "        vertical-align: top;\n",
       "    }\n",
       "\n",
       "    .dataframe thead th {\n",
       "        text-align: right;\n",
       "    }\n",
       "</style>\n",
       "<table border=\"1\" class=\"dataframe\">\n",
       "  <thead>\n",
       "    <tr style=\"text-align: right;\">\n",
       "      <th></th>\n",
       "      <th>State_of_Country</th>\n",
       "      <th>Market_Category</th>\n",
       "      <th>Product_Category</th>\n",
       "      <th>Grade</th>\n",
       "      <th>Demand</th>\n",
       "      <th>High_Cap_Price</th>\n",
       "    </tr>\n",
       "  </thead>\n",
       "  <tbody>\n",
       "    <tr>\n",
       "      <td>0</td>\n",
       "      <td>0.0</td>\n",
       "      <td>0.000000</td>\n",
       "      <td>0.0</td>\n",
       "      <td>0.000000</td>\n",
       "      <td>0.000008</td>\n",
       "      <td>0.069515</td>\n",
       "    </tr>\n",
       "    <tr>\n",
       "      <td>1</td>\n",
       "      <td>0.0</td>\n",
       "      <td>0.002123</td>\n",
       "      <td>0.0</td>\n",
       "      <td>0.000000</td>\n",
       "      <td>0.000011</td>\n",
       "      <td>0.078313</td>\n",
       "    </tr>\n",
       "    <tr>\n",
       "      <td>2</td>\n",
       "      <td>0.0</td>\n",
       "      <td>0.218684</td>\n",
       "      <td>0.0</td>\n",
       "      <td>0.333333</td>\n",
       "      <td>0.000025</td>\n",
       "      <td>0.162083</td>\n",
       "    </tr>\n",
       "    <tr>\n",
       "      <td>3</td>\n",
       "      <td>0.0</td>\n",
       "      <td>0.218684</td>\n",
       "      <td>0.0</td>\n",
       "      <td>0.000000</td>\n",
       "      <td>0.000000</td>\n",
       "      <td>0.138962</td>\n",
       "    </tr>\n",
       "    <tr>\n",
       "      <td>4</td>\n",
       "      <td>0.0</td>\n",
       "      <td>0.218684</td>\n",
       "      <td>0.0</td>\n",
       "      <td>0.666667</td>\n",
       "      <td>0.000000</td>\n",
       "      <td>0.120957</td>\n",
       "    </tr>\n",
       "  </tbody>\n",
       "</table>\n",
       "</div>"
      ],
      "text/plain": [
       "   State_of_Country  Market_Category  Product_Category     Grade    Demand  \\\n",
       "0               0.0         0.000000               0.0  0.000000  0.000008   \n",
       "1               0.0         0.002123               0.0  0.000000  0.000011   \n",
       "2               0.0         0.218684               0.0  0.333333  0.000025   \n",
       "3               0.0         0.218684               0.0  0.000000  0.000000   \n",
       "4               0.0         0.218684               0.0  0.666667  0.000000   \n",
       "\n",
       "   High_Cap_Price  \n",
       "0        0.069515  \n",
       "1        0.078313  \n",
       "2        0.162083  \n",
       "3        0.138962  \n",
       "4        0.120957  "
      ]
     },
     "execution_count": 21,
     "metadata": {},
     "output_type": "execute_result"
    }
   ],
   "source": [
    "from sklearn import preprocessing\n",
    "\n",
    "# Scale and plot the features against price (target) using the MinMax scaler (Normalization)\n",
    "min_max_scaler = preprocessing.MinMaxScaler()\n",
    "col_name = salesday_trainData.drop('Low_Cap_Price', axis = 1).columns[:]\n",
    "x = salesday_trainData.loc[:, col_name]\n",
    "y = salesday_trainData['Low_Cap_Price']\n",
    "\n",
    "# Normalizing x\n",
    "x = pd.DataFrame(data = min_max_scaler.fit_transform(x), columns = col_name)\n",
    "\n",
    "# Examine the normalized data\n",
    "print(salesday_trainData.head())\n",
    "x.head()"
   ]
  },
  {
   "cell_type": "code",
   "execution_count": 27,
   "metadata": {},
   "outputs": [
    {
     "data": {
      "image/png": "[encoded data removed]",
      "text/plain": [
       "<Figure size 360x360 with 2 Axes>"
      ]
     },
     "metadata": {
      "needs_background": "light"
     },
     "output_type": "display_data"
    }
   ],
   "source": [
    "plt.figure(figsize = (5, 5))\n",
    "sns.heatmap(salesday_trainData.corr(), annot = True)\n",
    "plt.show()"
   ]
  },
  {
   "cell_type": "code",
   "execution_count": 32,
   "metadata": {},
   "outputs": [
    {
     "data": {
      "image/png": "[encoded data removed]",
      "text/plain": [
       "<Figure size 1080x720 with 6 Axes>"
      ]
     },
     "metadata": {
      "needs_background": "light"
     },
     "output_type": "display_data"
    }
   ],
   "source": [
    "fig, axs = plt.subplots(nrows = 2, ncols = 3, figsize = (15, 10))\n",
    "sns.regplot(y = salesday_trainData['Low_Cap_Price'], x = x['State_of_Country'], ax = axs[0, 0])\n",
    "sns.regplot(y = salesday_trainData['Low_Cap_Price'], x = x['Market_Category'], ax = axs[0, 1])\n",
    "sns.regplot(y = salesday_trainData['Low_Cap_Price'], x = x['Product_Category'], ax = axs[0, 2])\n",
    "sns.regplot(y = salesday_trainData['Low_Cap_Price'], x = x['Grade'], ax = axs[1, 0])\n",
    "sns.regplot(y = salesday_trainData['Low_Cap_Price'], x = x['Demand'], ax = axs[1, 1])\n",
    "sns.regplot(y = salesday_trainData['Low_Cap_Price'], x = x['High_Cap_Price'], ax = axs[1, 2])\n",
    "plt.tight_layout()"
   ]
  },
  {
   "cell_type": "code",
   "execution_count": 33,
   "metadata": {},
   "outputs": [
    {
     "name": "stdout",
     "output_type": "stream",
     "text": [
      "Train features shape :  (7838, 6)\n",
      "Train target shape   :  (7838,)\n",
      "Test features shape  :  (1960, 6)\n",
      "Test target shape    :  (1960,)\n"
     ]
    }
   ],
   "source": [
    "from sklearn.model_selection import train_test_split \n",
    "features = salesday_trainData.drop('Low_Cap_Price', axis = 1)\n",
    "target = salesday_trainData['Low_Cap_Price']\n",
    "train_features, test_features, train_target, test_target = train_test_split(features, target, test_size = 0.2, random_state = 42)\n",
    "print(\"Train features shape : \", train_features.shape)\n",
    "print(\"Train target shape   : \", train_target.shape)\n",
    "print(\"Test features shape  : \", test_features.shape)\n",
    "print(\"Test target shape    : \", test_target.shape)"
   ]
  },
  {
   "cell_type": "code",
   "execution_count": 34,
   "metadata": {},
   "outputs": [
    {
     "data": {
      "text/plain": [
       "LinearRegression(copy_X=True, fit_intercept=True, n_jobs=None, normalize=True)"
      ]
     },
     "execution_count": 34,
     "metadata": {},
     "output_type": "execute_result"
    }
   ],
   "source": [
    "from sklearn.linear_model import LinearRegression\n",
    "model = LinearRegression(normalize = True)\n",
    "model.fit(train_features, train_target)"
   ]
  },
  {
   "cell_type": "code",
   "execution_count": 35,
   "metadata": {},
   "outputs": [
    {
     "name": "stdout",
     "output_type": "stream",
     "text": [
      "Model intercept  :  105.11311300693706 \n",
      "\n",
      "Model coefficient:  [ 4.58903330e+01  8.87838701e-01  2.71752852e+01 -4.06247631e+02\n",
      " -5.55649492e-02  4.35863507e-01] \n",
      "\n",
      "State_of_Country :  45.89033303804537\n",
      "Market_Category :  0.8878387012873407\n",
      "Product_Category :  27.175285169302363\n",
      "Grade :  -406.2476309820454\n",
      "Demand :  -0.05556494915329763\n",
      "High_Cap_Price :  0.43586350714906413\n"
     ]
    }
   ],
   "source": [
    "print(\"Model intercept  : \", model.intercept_, \"\\n\")\n",
    "print(\"Model coefficient: \", model.coef_, \"\\n\")\n",
    "\n",
    "for i in range(len(features.columns)):\n",
    "    print(features.columns[i], \": \", model.coef_[i])"
   ]
  },
  {
   "cell_type": "code",
   "execution_count": 69,
   "metadata": {},
   "outputs": [
    {
     "name": "stdout",
     "output_type": "stream",
     "text": [
      "      Low_Cap_Price    Predicted   Difference\n",
      "3574           3051  3063.551748    12.551748\n",
      "7812            195  -227.510327  -422.510327\n",
      "1617           5124  4831.265040  -292.734960\n",
      "4823           2499  1611.936036  -887.063964\n",
      "3656            411    94.916492  -316.083508\n",
      "210            3904  3919.515548    15.515548\n",
      "5358           3581  3348.662968  -232.337032\n",
      "754            4068  2756.852829 -1311.147171\n",
      "2930           3744  3685.939511   -58.060489\n",
      "4634           1222  2377.881576  1155.881576 \n",
      "\n",
      "Model training performance:\n",
      "---------------------------\n",
      "MAE is 946.0723995892281\n",
      "MSE is 1849420.7819468798\n",
      "RMSE is 1359.9341094137171\n",
      "R2 score is 0.6113477385252252\n",
      "\n",
      "\n",
      "      Low_Cap_Price    Predicted   Difference\n",
      "96             2006  2367.405048   361.405048\n",
      "39             3755  3188.160850  -566.839150\n",
      "6642            715  1726.996187  1011.996187\n",
      "8091           3848  3340.093064  -507.906936\n",
      "532            3889  4017.965672   128.965672\n",
      "2848           2105  2367.209994   262.209994\n",
      "7556           3295  3559.016839   264.016839\n",
      "4668           3826  3816.171445    -9.828555\n",
      "3100           3780  3986.374361   206.374361\n",
      "3646           1407  1370.957482   -36.042518 \n",
      "\n",
      "Model testing performance:\n",
      "--------------------------\n",
      "MAE is 972.3224380594352\n",
      "MSE is 1914640.946528993\n",
      "RMSE is 1383.7055129358246\n",
      "R2 score is 0.609176779602417\n"
     ]
    }
   ],
   "source": [
    "# Model evaluation for training set\n",
    "from sklearn.metrics import mean_squared_error, r2_score, mean_squared_log_error ,mean_absolute_error\n",
    "from sklearn import metrics\n",
    "train_target_pred = model.predict(train_features)\n",
    "mae = mean_absolute_error(train_target, train_target_pred)  \n",
    "mse = mean_squared_error(train_target, train_target_pred) \n",
    "rmse = (np.sqrt(mean_squared_error(train_target, train_target_pred)))\n",
    "r2 = r2_score(train_target, train_target_pred)\n",
    "#score = max(0,(100 - mean_squared_log_error(train_target,train_target_pred) ))\n",
    "\n",
    "# Examine the first 10 predicted output from the model\n",
    "output = pd.DataFrame(train_target[0:10])\n",
    "output['Predicted'] = train_target_pred[0:10]\n",
    "output['Difference'] = output['Predicted'] - output['Low_Cap_Price']\n",
    "print(output, \"\\n\")\n",
    "\n",
    "print(\"Model training performance:\")\n",
    "print(\"---------------------------\")\n",
    "print('MAE is {}'.format(mae))\n",
    "print('MSE is {}'.format(mse))\n",
    "print('RMSE is {}'.format(rmse))\n",
    "print('R2 score is {}'.format(r2))\n",
    "#print('Hackathon Score is {}'.format(score))\n",
    "print(\"\\n\")\n",
    "\n",
    "# Model evaluation for testing set\n",
    "test_target_pred = model.predict(test_features)\n",
    "mae = mean_absolute_error(test_target, test_target_pred)  \n",
    "mse = mean_squared_error(test_target, test_target_pred) \n",
    "rmse = (np.sqrt(mean_squared_error(test_target, test_target_pred)))\n",
    "r2 = r2_score(test_target, test_target_pred)\n",
    "#score = max(0,(100 - mean_squared_log_error(test_target,test_target_pred) ))\n",
    "\n",
    "output = pd.DataFrame(test_target[0:10])\n",
    "output['Predicted'] = test_target_pred[0:10]\n",
    "output['Difference'] = output['Predicted'] - output['Low_Cap_Price']\n",
    "print(output, \"\\n\")\n",
    "\n",
    "print(\"Model testing performance:\")\n",
    "print(\"--------------------------\")\n",
    "print('MAE is {}'.format(mae))\n",
    "print('MSE is {}'.format(mse))\n",
    "print('RMSE is {}'.format(rmse))\n",
    "print('R2 score is {}'.format(r2))\n",
    "#print('Hackathon Score is {}'.format(score))"
   ]
  },
  {
   "cell_type": "code",
   "execution_count": 103,
   "metadata": {},
   "outputs": [],
   "source": [
    "from sklearn.ensemble import RandomForestRegressor\n",
    "from sklearn.feature_selection import SelectFromModel\n",
    "rfr = RandomForestRegressor(n_estimators = 100,random_state = 42)"
   ]
  },
  {
   "cell_type": "code",
   "execution_count": 104,
   "metadata": {},
   "outputs": [
    {
     "data": {
      "text/plain": [
       "RandomForestRegressor(bootstrap=True, criterion='mse', max_depth=None,\n",
       "                      max_features='auto', max_leaf_nodes=None,\n",
       "                      min_impurity_decrease=0.0, min_impurity_split=None,\n",
       "                      min_samples_leaf=1, min_samples_split=2,\n",
       "                      min_weight_fraction_leaf=0.0, n_estimators=100,\n",
       "                      n_jobs=None, oob_score=False, random_state=42, verbose=0,\n",
       "                      warm_start=False)"
      ]
     },
     "execution_count": 104,
     "metadata": {},
     "output_type": "execute_result"
    }
   ],
   "source": [
    "rfr.fit(train_features, train_target)"
   ]
  },
  {
   "cell_type": "code",
   "execution_count": 105,
   "metadata": {},
   "outputs": [],
   "source": [
    "train_target_predicted = rfr.predict(train_features)"
   ]
  },
  {
   "cell_type": "code",
   "execution_count": 106,
   "metadata": {},
   "outputs": [],
   "source": [
    "mae = mean_absolute_error(train_target, train_target_predicted)  \n",
    "mse = mean_squared_error(train_target, train_target_predicted) \n",
    "rmse = (np.sqrt(mean_squared_error(train_target, train_target_predicted)))\n",
    "r2 = r2_score(train_target, train_target_predicted)"
   ]
  },
  {
   "cell_type": "code",
   "execution_count": 107,
   "metadata": {},
   "outputs": [
    {
     "name": "stdout",
     "output_type": "stream",
     "text": [
      "Model training performance:\n",
      "---------------------------\n",
      "MAE is 189.36519945564345\n",
      "MSE is 114605.38973712784\n",
      "RMSE is 338.53417809303664\n",
      "R2 score is 0.9759158952179374\n",
      "\n",
      "\n"
     ]
    }
   ],
   "source": [
    "print(\"Model training performance:\")\n",
    "print(\"---------------------------\")\n",
    "print('MAE is {}'.format(mae))\n",
    "print('MSE is {}'.format(mse))\n",
    "print('RMSE is {}'.format(rmse))\n",
    "print('R2 score is {}'.format(r2))\n",
    "#print('Hackathon Score is {}'.format(score))\n",
    "print(\"\\n\")"
   ]
  },
  {
   "cell_type": "code",
   "execution_count": 108,
   "metadata": {},
   "outputs": [],
   "source": [
    "test_target_predicted = rfr.predict(test_features)"
   ]
  },
  {
   "cell_type": "code",
   "execution_count": 109,
   "metadata": {},
   "outputs": [],
   "source": [
    "mae = mean_absolute_error(test_target, test_target_predicted)  \n",
    "mse = mean_squared_error(test_target, test_target_predicted) \n",
    "rmse = (np.sqrt(mean_squared_error(test_target, test_target_predicted)))\n",
    "r2 = r2_score(test_target, test_target_predicted)"
   ]
  },
  {
   "cell_type": "code",
   "execution_count": 111,
   "metadata": {},
   "outputs": [
    {
     "name": "stdout",
     "output_type": "stream",
     "text": [
      "Model testing performance:\n",
      "---------------------------\n",
      "MAE is 509.58135741010693\n",
      "MSE is 784757.0548343208\n",
      "RMSE is 885.8651448354432\n",
      "R2 score is 0.8398126395677041\n",
      "\n",
      "\n"
     ]
    }
   ],
   "source": [
    "print(\"Model testing performance:\")\n",
    "print(\"---------------------------\")\n",
    "print('MAE is {}'.format(mae))\n",
    "print('MSE is {}'.format(mse))\n",
    "print('RMSE is {}'.format(rmse))\n",
    "print('R2 score is {}'.format(r2))\n",
    "#print('Hackathon Score is {}'.format(score))\n",
    "print(\"\\n\")"
   ]
  },
  {
   "cell_type": "code",
   "execution_count": 120,
   "metadata": {},
   "outputs": [],
   "source": [
    "from sklearn.model_selection import GridSearchCV"
   ]
  },
  {
   "cell_type": "code",
   "execution_count": 129,
   "metadata": {},
   "outputs": [],
   "source": [
    "# Different parameters in random forest\n",
    "\n",
    "criterion = ['mse', 'mae']        # what criteria to consider\n",
    "\n",
    "n_estimators = [100, 200, 300]       # Number of trees in random forest\n",
    "\n",
    "max_features = ['auto', 'sqrt', 'log2']       # Number of features to consider at every split\n",
    "\n",
    "max_depth = [10, 20]      # Maximum number of levels in tree. Hope you remember linspace function from numpy session\n",
    "\n",
    "max_depth.append(None)     # also appendin 'None' in max_depth i.e. no maximum depth to be considered.\n",
    "\n",
    "params = {'criterion': criterion,\n",
    "          'n_estimators': n_estimators,\n",
    "          'max_features': max_features,\n",
    "          'max_depth': max_depth}\n",
    "\n",
    "# RandomForestRegressor(bootstrap=True, criterion='mse', max_depth=None,\n",
    "#                       max_features='auto', max_leaf_nodes=None,\n",
    "#                       min_impurity_decrease=0.0, min_impurity_split=None,\n",
    "#                       min_samples_leaf=1, min_samples_split=2,\n",
    "#                       min_weight_fraction_leaf=0.0, n_estimators=100,\n",
    "#                       n_jobs=None, oob_score=False, random_state=42, verbose=0,\n",
    "#                       warm_start=False)"
   ]
  },
  {
   "cell_type": "code",
   "execution_count": 126,
   "metadata": {},
   "outputs": [
    {
     "data": {
      "text/plain": [
       "{'criterion': ['mse', 'r2_score'],\n",
       " 'n_estimators': [100, 200, 300],\n",
       " 'max_features': ['auto', 'sqrt', 'log2'],\n",
       " 'max_depth': [10, 20, None]}"
      ]
     },
     "execution_count": 126,
     "metadata": {},
     "output_type": "execute_result"
    }
   ],
   "source": [
    "params"
   ]
  },
  {
   "cell_type": "code",
   "execution_count": 130,
   "metadata": {},
   "outputs": [],
   "source": [
    "gs = GridSearchCV(rfr, param_grid=params, n_jobs=2)"
   ]
  },
  {
   "cell_type": "code",
   "execution_count": 131,
   "metadata": {},
   "outputs": [
    {
     "data": {
      "text/plain": [
       "GridSearchCV(cv='warn', error_score='raise-deprecating',\n",
       "             estimator=RandomForestRegressor(bootstrap=True, criterion='mse',\n",
       "                                             max_depth=None,\n",
       "                                             max_features='auto',\n",
       "                                             max_leaf_nodes=None,\n",
       "                                             min_impurity_decrease=0.0,\n",
       "                                             min_impurity_split=None,\n",
       "                                             min_samples_leaf=1,\n",
       "                                             min_samples_split=2,\n",
       "                                             min_weight_fraction_leaf=0.0,\n",
       "                                             n_estimators=100, n_jobs=None,\n",
       "                                             oob_score=False, random_state=42,\n",
       "                                             verbose=0, warm_start=False),\n",
       "             iid='warn', n_jobs=2,\n",
       "             param_grid={'criterion': ['mse', 'mae'],\n",
       "                         'max_depth': [10, 20, None],\n",
       "                         'max_features': ['auto', 'sqrt', 'log2'],\n",
       "                         'n_estimators': [100, 200, 300]},\n",
       "             pre_dispatch='2*n_jobs', refit=True, return_train_score=False,\n",
       "             scoring=None, verbose=0)"
      ]
     },
     "execution_count": 131,
     "metadata": {},
     "output_type": "execute_result"
    }
   ],
   "source": [
    "gs.fit(train_features, train_target)"
   ]
  },
  {
   "cell_type": "code",
   "execution_count": 132,
   "metadata": {},
   "outputs": [
    {
     "data": {
      "text/plain": [
       "{'criterion': 'mae',\n",
       " 'max_depth': None,\n",
       " 'max_features': 'sqrt',\n",
       " 'n_estimators': 300}"
      ]
     },
     "execution_count": 132,
     "metadata": {},
     "output_type": "execute_result"
    }
   ],
   "source": [
    "gs.best_params_"
   ]
  },
  {
   "cell_type": "code",
   "execution_count": 136,
   "metadata": {},
   "outputs": [
    {
     "data": {
      "text/plain": [
       "0.8437046507164412"
      ]
     },
     "execution_count": 136,
     "metadata": {},
     "output_type": "execute_result"
    }
   ],
   "source": [
    "gs.best_score_"
   ]
  },
  {
   "cell_type": "code",
   "execution_count": 147,
   "metadata": {},
   "outputs": [],
   "source": [
    "train_target_predicted = gs.predict(train_features)"
   ]
  },
  {
   "cell_type": "code",
   "execution_count": 148,
   "metadata": {},
   "outputs": [],
   "source": [
    "mae = mean_absolute_error(train_target, train_target_predicted)  \n",
    "mse = mean_squared_error(train_target, train_target_predicted) \n",
    "rmse = (np.sqrt(mean_squared_error(train_target, train_target_predicted)))\n",
    "r2 = r2_score(train_target, train_target_predicted)"
   ]
  },
  {
   "cell_type": "code",
   "execution_count": 149,
   "metadata": {},
   "outputs": [
    {
     "name": "stdout",
     "output_type": "stream",
     "text": [
      "Model training performance:\n",
      "---------------------------\n",
      "MAE is 194.74439163902358\n",
      "MSE is 121136.68783495117\n",
      "RMSE is 348.0469621113668\n",
      "R2 score is 0.9745433553390394\n",
      "\n",
      "\n"
     ]
    }
   ],
   "source": [
    "print(\"Model training performance:\")\n",
    "print(\"---------------------------\")\n",
    "print('MAE is {}'.format(mae))\n",
    "print('MSE is {}'.format(mse))\n",
    "print('RMSE is {}'.format(rmse))\n",
    "print('R2 score is {}'.format(r2))\n",
    "#print('Hackathon Score is {}'.format(score))\n",
    "print(\"\\n\")"
   ]
  },
  {
   "cell_type": "code",
   "execution_count": 150,
   "metadata": {},
   "outputs": [],
   "source": [
    "test_target_predicted = gs.predict(test_features)"
   ]
  },
  {
   "cell_type": "code",
   "execution_count": 151,
   "metadata": {},
   "outputs": [],
   "source": [
    "mae = mean_absolute_error(test_target, test_target_predicted)  \n",
    "mse = mean_squared_error(test_target, test_target_predicted) \n",
    "rmse = (np.sqrt(mean_squared_error(test_target, test_target_predicted)))\n",
    "r2 = r2_score(test_target, test_target_predicted)"
   ]
  },
  {
   "cell_type": "code",
   "execution_count": 152,
   "metadata": {},
   "outputs": [
    {
     "name": "stdout",
     "output_type": "stream",
     "text": [
      "Model testing performance:\n",
      "---------------------------\n",
      "MAE is 496.36421173469387\n",
      "MSE is 765939.4443971415\n",
      "RMSE is 875.1796640674082\n",
      "R2 score is 0.8436537561616944\n",
      "\n",
      "\n"
     ]
    }
   ],
   "source": [
    "print(\"Model testing performance:\")\n",
    "print(\"---------------------------\")\n",
    "print('MAE is {}'.format(mae))\n",
    "print('MSE is {}'.format(mse))\n",
    "print('RMSE is {}'.format(rmse))\n",
    "print('R2 score is {}'.format(r2))\n",
    "#print('Hackathon Score is {}'.format(score))\n",
    "print(\"\\n\")"
   ]
  },
  {
   "cell_type": "code",
   "execution_count": 153,
   "metadata": {},
   "outputs": [],
   "source": [
    "testData=pd.read_csv('Test.csv')\n",
    "submissionData=pd.read_csv('sample_submission.csv')"
   ]
  },
  {
   "cell_type": "code",
   "execution_count": 154,
   "metadata": {},
   "outputs": [],
   "source": [
    "testData.drop('Item_Id', axis = 1, inplace = True)\n",
    "testData.drop('Date', axis = 1, inplace = True)"
   ]
  },
  {
   "cell_type": "code",
   "execution_count": 155,
   "metadata": {},
   "outputs": [
    {
     "name": "stdout",
     "output_type": "stream",
     "text": [
      "<class 'pandas.core.frame.DataFrame'>\n",
      "RangeIndex: 5763 entries, 0 to 5762\n",
      "Data columns (total 6 columns):\n",
      "State_of_Country    5763 non-null int64\n",
      "Market_Category     5763 non-null int64\n",
      "Product_Category    5763 non-null int64\n",
      "Grade               5763 non-null int64\n",
      "Demand              5763 non-null float64\n",
      "High_Cap_Price      5763 non-null int64\n",
      "dtypes: float64(1), int64(5)\n",
      "memory usage: 270.3 KB\n"
     ]
    }
   ],
   "source": [
    "testData.info()"
   ]
  },
  {
   "cell_type": "code",
   "execution_count": 156,
   "metadata": {},
   "outputs": [
    {
     "data": {
      "text/html": [
       "<div>\n",
       "<style scoped>\n",
       "    .dataframe tbody tr th:only-of-type {\n",
       "        vertical-align: middle;\n",
       "    }\n",
       "\n",
       "    .dataframe tbody tr th {\n",
       "        vertical-align: top;\n",
       "    }\n",
       "\n",
       "    .dataframe thead th {\n",
       "        text-align: right;\n",
       "    }\n",
       "</style>\n",
       "<table border=\"1\" class=\"dataframe\">\n",
       "  <thead>\n",
       "    <tr style=\"text-align: right;\">\n",
       "      <th></th>\n",
       "      <th>State_of_Country</th>\n",
       "      <th>Market_Category</th>\n",
       "      <th>Product_Category</th>\n",
       "      <th>Grade</th>\n",
       "      <th>Demand</th>\n",
       "      <th>High_Cap_Price</th>\n",
       "    </tr>\n",
       "  </thead>\n",
       "  <tbody>\n",
       "    <tr>\n",
       "      <td>0</td>\n",
       "      <td>0</td>\n",
       "      <td>3</td>\n",
       "      <td>0</td>\n",
       "      <td>0</td>\n",
       "      <td>0.1</td>\n",
       "      <td>5303</td>\n",
       "    </tr>\n",
       "    <tr>\n",
       "      <td>1</td>\n",
       "      <td>0</td>\n",
       "      <td>268</td>\n",
       "      <td>0</td>\n",
       "      <td>2</td>\n",
       "      <td>1.4</td>\n",
       "      <td>10492</td>\n",
       "    </tr>\n",
       "    <tr>\n",
       "      <td>2</td>\n",
       "      <td>0</td>\n",
       "      <td>320</td>\n",
       "      <td>0</td>\n",
       "      <td>0</td>\n",
       "      <td>13.4</td>\n",
       "      <td>24706</td>\n",
       "    </tr>\n",
       "    <tr>\n",
       "      <td>3</td>\n",
       "      <td>17</td>\n",
       "      <td>358</td>\n",
       "      <td>0</td>\n",
       "      <td>3</td>\n",
       "      <td>5.5</td>\n",
       "      <td>23464</td>\n",
       "    </tr>\n",
       "    <tr>\n",
       "      <td>4</td>\n",
       "      <td>18</td>\n",
       "      <td>23</td>\n",
       "      <td>5</td>\n",
       "      <td>2</td>\n",
       "      <td>0.0</td>\n",
       "      <td>6222</td>\n",
       "    </tr>\n",
       "  </tbody>\n",
       "</table>\n",
       "</div>"
      ],
      "text/plain": [
       "   State_of_Country  Market_Category  Product_Category  Grade  Demand  \\\n",
       "0                 0                3                 0      0     0.1   \n",
       "1                 0              268                 0      2     1.4   \n",
       "2                 0              320                 0      0    13.4   \n",
       "3                17              358                 0      3     5.5   \n",
       "4                18               23                 5      2     0.0   \n",
       "\n",
       "   High_Cap_Price  \n",
       "0            5303  \n",
       "1           10492  \n",
       "2           24706  \n",
       "3           23464  \n",
       "4            6222  "
      ]
     },
     "execution_count": 156,
     "metadata": {},
     "output_type": "execute_result"
    }
   ],
   "source": [
    "testData.head()"
   ]
  },
  {
   "cell_type": "code",
   "execution_count": 157,
   "metadata": {},
   "outputs": [],
   "source": [
    "prediction = gs.predict(testData)"
   ]
  },
  {
   "cell_type": "code",
   "execution_count": 158,
   "metadata": {},
   "outputs": [
    {
     "data": {
      "text/html": [
       "<div>\n",
       "<style scoped>\n",
       "    .dataframe tbody tr th:only-of-type {\n",
       "        vertical-align: middle;\n",
       "    }\n",
       "\n",
       "    .dataframe tbody tr th {\n",
       "        vertical-align: top;\n",
       "    }\n",
       "\n",
       "    .dataframe thead th {\n",
       "        text-align: right;\n",
       "    }\n",
       "</style>\n",
       "<table border=\"1\" class=\"dataframe\">\n",
       "  <thead>\n",
       "    <tr style=\"text-align: right;\">\n",
       "      <th></th>\n",
       "      <th>Item_Id</th>\n",
       "      <th>Low_Cap_Price</th>\n",
       "    </tr>\n",
       "  </thead>\n",
       "  <tbody>\n",
       "    <tr>\n",
       "      <td>0</td>\n",
       "      <td>IT_265079</td>\n",
       "      <td>3536</td>\n",
       "    </tr>\n",
       "    <tr>\n",
       "      <td>1</td>\n",
       "      <td>IT_265087</td>\n",
       "      <td>2812</td>\n",
       "    </tr>\n",
       "    <tr>\n",
       "      <td>2</td>\n",
       "      <td>IT_265107</td>\n",
       "      <td>2341</td>\n",
       "    </tr>\n",
       "    <tr>\n",
       "      <td>3</td>\n",
       "      <td>IT_265139</td>\n",
       "      <td>5977</td>\n",
       "    </tr>\n",
       "    <tr>\n",
       "      <td>4</td>\n",
       "      <td>IT_265142</td>\n",
       "      <td>1387</td>\n",
       "    </tr>\n",
       "  </tbody>\n",
       "</table>\n",
       "</div>"
      ],
      "text/plain": [
       "     Item_Id  Low_Cap_Price\n",
       "0  IT_265079           3536\n",
       "1  IT_265087           2812\n",
       "2  IT_265107           2341\n",
       "3  IT_265139           5977\n",
       "4  IT_265142           1387"
      ]
     },
     "execution_count": 158,
     "metadata": {},
     "output_type": "execute_result"
    }
   ],
   "source": [
    "submissionData.head()"
   ]
  },
  {
   "cell_type": "code",
   "execution_count": 159,
   "metadata": {},
   "outputs": [],
   "source": [
    "submissionData['Low_Cap_Price']=prediction"
   ]
  },
  {
   "cell_type": "code",
   "execution_count": 160,
   "metadata": {},
   "outputs": [],
   "source": [
    "submissionData.to_csv('HE_RF_v3.csv',index=False)"
   ]
  }
 ],
 "metadata": {
  "kernelspec": {
   "display_name": "Python 3",
   "language": "python",
   "name": "python3"
  },
  "language_info": {
   "codemirror_mode": {
    "name": "ipython",
    "version": 3
   },
   "file_extension": ".py",
   "mimetype": "text/x-python",
   "name": "python",
   "nbconvert_exporter": "python",
   "pygments_lexer": "ipython3",
   "version": "3.7.4"
  }
 },
 "nbformat": 4,
 "nbformat_minor": 2
}
